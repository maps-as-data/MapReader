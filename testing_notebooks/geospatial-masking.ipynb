{
 "cells": [
  {
   "cell_type": "markdown",
   "metadata": {},
   "source": [
    "# MapReader with masking"
   ]
  },
  {
   "cell_type": "code",
   "execution_count": null,
   "metadata": {},
   "outputs": [],
   "source": [
    "# https://github.com/maps-as-data/MapReader/blob/main/worked_examples/geospatial/context_classification_one_inch_maps/Pipeline.ipynb"
   ]
  },
  {
   "cell_type": "code",
   "execution_count": null,
   "metadata": {},
   "outputs": [],
   "source": [
    "# requuires os opendata plan (FREE) https://osdatahub.os.uk/plans\n",
    "# osdatahub library documentation https://github.com/OrdnanceSurvey/osdatahub\n",
    "# data docs https://www.ordnancesurvey.co.uk/documents/apis-on-a-page.pdf"
   ]
  },
  {
   "cell_type": "markdown",
   "metadata": {},
   "source": [
    "### Setup"
   ]
  },
  {
   "cell_type": "code",
   "execution_count": null,
   "metadata": {},
   "outputs": [],
   "source": [
    "# pip install osdatahub\n",
    "# conda install -c conda-forge osdatahub"
   ]
  },
  {
   "cell_type": "markdown",
   "metadata": {},
   "source": [
    "You'll also need to sign-up for an account on the OS Data Hub and get an API key. If you've setup you're account and need help getting a key, try the following steps:\n",
    "\n",
    "1. Navigate to the API Dashboard located on the top navigation bar\n",
    "2. Go to My Projects\n",
    "3. Click Create a new project, give your project a name, then click Create project\n",
    "4. Select Add an API to this project\n",
    "5. Choose the APIs you would like to use and click Done (Note: osdatahub supports the OS Features, Places, Names, Linked Identifiers, and Downloads APIs)\n",
    "\n",
    "\n",
    "Free API Key:\n",
    "\n",
    "Daily Limit: 1,000 API requests per day.\n",
    "Data Limit per Request: Typically limited to 10,000 features (or 1,000 features per request for certain products like the Features API).\n",
    "Rate Limiting: Maximum of 10 requests per second"
   ]
  },
  {
   "cell_type": "markdown",
   "metadata": {},
   "source": [
    "# Code"
   ]
  },
  {
   "cell_type": "code",
   "execution_count": 1,
   "metadata": {},
   "outputs": [],
   "source": [
    "from osdatahub import NGD\n",
    "from osdatahub.FeaturesAPI import FeaturesAPI\n",
    "from shapely.geometry import Polygon\n",
    "from osdatahub.extent import Extent\n",
    "from pyproj import Transformer\n",
    "import geopandas as gpd\n",
    "import pandas as pd"
   ]
  },
  {
   "cell_type": "code",
   "execution_count": 2,
   "metadata": {},
   "outputs": [],
   "source": [
    "class OSDataDownloader:\n",
    "    def __init__(self, api_key, metadata_csv):\n",
    "        \"\"\"\n",
    "        Initialize the OSDataDownloader class.\n",
    "\n",
    "        Parameters:\n",
    "        - api_key: Your OS Data Hub API key.\n",
    "        - metadata_csv: Path to the metadata CSV file containing bounding box information.\n",
    "        \"\"\"\n",
    "        self.api_key = api_key\n",
    "        self.metadata_csv = metadata_csv\n",
    "\n",
    "    def get_png_metadata(self, png_name):\n",
    "        \"\"\"\n",
    "        Extract the metadata for a specific PNG from the metadata CSV file.\n",
    "\n",
    "        Parameters:\n",
    "        - png_name: Name of the PNG file (e.g., \"map_101433939.png\").\n",
    "\n",
    "        Returns:\n",
    "        - metadata: Dictionary containing bounding box and other metadata.\n",
    "        \"\"\"\n",
    "        metadata = pd.read_csv(self.metadata_csv)\n",
    "        row = metadata[metadata[\"name\"] == png_name]\n",
    "        if row.empty:\n",
    "            raise ValueError(f\"No metadata found for {png_name}\")\n",
    "\n",
    "        coords = eval(row[\"coordinates\"].iloc[0])  # Convert string to tuple\n",
    "        return {\n",
    "            \"bounding_box\": coords,\n",
    "            \"crs\": row[\"crs\"].iloc[0],\n",
    "            \"image_name\": row[\"name\"].iloc[0],\n",
    "        }\n",
    "\n",
    "    def transform_bounding_box(self, bbox, from_crs=\"EPSG:4326\", to_crs=\"EPSG:27700\"):\n",
    "        \"\"\"\n",
    "        Transforms a bounding box from one CRS to another.\n",
    "\n",
    "        Parameters:\n",
    "        - bbox: Tuple of (xmin, ymin, xmax, ymax) in the source CRS.\n",
    "        - from_crs: Source CRS (default is EPSG:4326).\n",
    "        - to_crs: Target CRS (default is EPSG:27700).\n",
    "\n",
    "        Returns:\n",
    "        - Transformed bounding box as (xmin, ymin, xmax, ymax).\n",
    "        \"\"\"\n",
    "        transformer = Transformer.from_crs(from_crs, to_crs, always_xy=True)\n",
    "        xmin, ymin = transformer.transform(bbox[0], bbox[1])\n",
    "        xmax, ymax = transformer.transform(bbox[2], bbox[3])\n",
    "        return (xmin, ymin, xmax, ymax)\n",
    "\n",
    "    def initialize_features_api(self, product_name, extent=\"GB\", crs=\"EPSG:27700\"):\n",
    "        \"\"\"\n",
    "        Initialize the Ordnance Survey FeaturesAPI client for the specified product.\n",
    "\n",
    "        Parameters:\n",
    "        - product_name: The open data product to access.\n",
    "        - extent: The spatial extent to use (default is \"GB\" for Great Britain).\n",
    "        - crs: The CRS for the extent (default is \"EPSG:27700\").\n",
    "\n",
    "        Returns:\n",
    "        - features_api: An initialized FeaturesAPI client.\n",
    "        \"\"\"\n",
    "        if extent == \"GB\":\n",
    "            extent_obj = Extent.from_predefined(\"GB\")\n",
    "        else:\n",
    "            xmin, ymin, xmax, ymax = extent\n",
    "            polygon = Polygon(\n",
    "                [(xmin, ymin), (xmin, ymax), (xmax, ymax), (xmax, ymin), (xmin, ymin)]\n",
    "            )\n",
    "            extent_obj = Extent(polygon, crs)\n",
    "\n",
    "        features_api = FeaturesAPI(\n",
    "            key=self.api_key, product_name=product_name, extent=extent_obj\n",
    "        )\n",
    "        return features_api\n",
    "\n",
    "    def query_os_data(self, features_api, product_filter=None):\n",
    "        \"\"\"\n",
    "        Query Ordnance Survey open data using the FeaturesAPI client and filter by product name.\n",
    "\n",
    "        Parameters:\n",
    "        - features_api: An initialized FeaturesAPI client.\n",
    "        - product_filter: The name of the OS open data product to filter.\n",
    "\n",
    "        Returns:\n",
    "        - gdf: GeoDataFrame with the queried data or None if no data is found.\n",
    "        \"\"\"\n",
    "        response = features_api.query()\n",
    "        if \"features\" not in response or not response[\"features\"]:\n",
    "            print(\"No data found for this bounding box.\")\n",
    "            return None\n",
    "\n",
    "        gdf = gpd.GeoDataFrame.from_features(response[\"features\"])\n",
    "        if \"geometry\" not in gdf.columns:\n",
    "            print(\"The API response does not include a 'geometry' column.\")\n",
    "            return None\n",
    "\n",
    "        gdf = gdf.set_geometry(\"geometry\")\n",
    "        gdf.crs = \"EPSG:4326\"\n",
    "\n",
    "        if product_filter:\n",
    "            gdf = gdf[gdf[\"product\"] == product_filter]\n",
    "            if gdf.empty:\n",
    "                print(\n",
    "                    f\"No data found for product '{product_filter}' within the extent.\"\n",
    "                )\n",
    "\n",
    "        return gdf\n",
    "\n",
    "    def download_os_data(\n",
    "        self, png_name, product_name, output_file=None, product_filter=None\n",
    "    ):\n",
    "        \"\"\"\n",
    "        Download Ordnance Survey open data for the specified PNG and product.\n",
    "\n",
    "        Parameters:\n",
    "        - png_name: Name of the PNG file.\n",
    "        - product_name: The OS open data product to query.\n",
    "        - output_file: Optional path to save the queried data.\n",
    "        - product_filter: The name of the OS open data product to filter.\n",
    "\n",
    "        Returns:\n",
    "        - gdf: GeoDataFrame with the queried data or None if no data is found.\n",
    "        \"\"\"\n",
    "        metadata = self.get_png_metadata(png_name)\n",
    "        bbox_27700 = self.transform_bounding_box(metadata[\"bounding_box\"])\n",
    "\n",
    "        features_api = self.initialize_features_api(\n",
    "            product_name, extent=bbox_27700, crs=\"EPSG:27700\"\n",
    "        )\n",
    "        gdf = self.query_os_data(features_api, product_filter)\n",
    "\n",
    "        if gdf is not None and output_file:\n",
    "            gdf.to_file(\n",
    "                output_file,\n",
    "                driver=\"GeoJSON\"\n",
    "                if output_file.endswith(\".geojson\")\n",
    "                else \"ESRI Shapefile\",\n",
    "            )\n",
    "\n",
    "        return gdf"
   ]
  },
  {
   "cell_type": "markdown",
   "metadata": {},
   "source": [
    "## Testing Code"
   ]
  },
  {
   "cell_type": "code",
   "execution_count": 7,
   "metadata": {},
   "outputs": [
    {
     "name": "stdout",
     "output_type": "stream",
     "text": [
      "Downloaded data:\n",
      "                                            geometry  \\\n",
      "0  MULTIPOLYGON (((479737.59080 127263.65930, 479...   \n",
      "1  MULTIPOLYGON (((479929.86460 128309.90930, 479...   \n",
      "\n",
      "                       GmlID  OBJECTID      Type  SHAPE_Length    SHAPE_Area  \n",
      "0  Zoomstack_UrbanAreas.4935      4935  Regional  19589.185579  3.894567e+06  \n",
      "1  Zoomstack_UrbanAreas.5012      5012  National  13464.997625  8.670046e+06  \n"
     ]
    }
   ],
   "source": [
    "# Initialize downloader\n",
    "downloader = OSDataDownloader(\n",
    "    api_key=\"oX1WR2nDOAzhICIRNQWhAhBP2mtQp8I8\",\n",
    "    metadata_csv=\"./data/6_inch_png/metadata.csv\",\n",
    ")\n",
    "\n",
    "# Query and download data\n",
    "gdf = downloader.download_os_data(\n",
    "    png_name=\"map_101433939.png\",  # this png has data\n",
    "    # png_name=\"map_101433990.png\",  # this png has no data\n",
    "    product_name=\"zoomstack_urban_areas\",\n",
    "    output_file=\"./built_up_areas.geojson\",\n",
    ")\n",
    "\n",
    "if gdf is None:\n",
    "    print(\"No data returned for the specified bounding box.\")\n",
    "else:\n",
    "    print(\"Downloaded data:\")\n",
    "    print(gdf.head())"
   ]
  },
  {
   "cell_type": "code",
   "execution_count": null,
   "metadata": {},
   "outputs": [],
   "source": []
  },
  {
   "cell_type": "code",
   "execution_count": null,
   "metadata": {},
   "outputs": [],
   "source": []
  },
  {
   "cell_type": "code",
   "execution_count": null,
   "metadata": {},
   "outputs": [],
   "source": []
  },
  {
   "cell_type": "code",
   "execution_count": null,
   "metadata": {},
   "outputs": [],
   "source": []
  },
  {
   "cell_type": "code",
   "execution_count": null,
   "metadata": {},
   "outputs": [],
   "source": []
  },
  {
   "cell_type": "code",
   "execution_count": null,
   "metadata": {},
   "outputs": [],
   "source": []
  },
  {
   "cell_type": "code",
   "execution_count": null,
   "metadata": {},
   "outputs": [],
   "source": []
  }
 ],
 "metadata": {
  "kernelspec": {
   "display_name": "mapreader_dev",
   "language": "python",
   "name": "python3"
  },
  "language_info": {
   "codemirror_mode": {
    "name": "ipython",
    "version": 3
   },
   "file_extension": ".py",
   "mimetype": "text/x-python",
   "name": "python",
   "nbconvert_exporter": "python",
   "pygments_lexer": "ipython3",
   "version": "3.12.7"
  }
 },
 "nbformat": 4,
 "nbformat_minor": 2
}
